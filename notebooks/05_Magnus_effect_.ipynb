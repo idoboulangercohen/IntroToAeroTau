{
 "cells": [
  {
   "cell_type": "markdown",
   "metadata": {},
   "source": [
    "# Magnus effect: Lift on a cylinder"
   ]
  },
  {
   "cell_type": "markdown",
   "metadata": {},
   "source": [
    "Remember when we computed uniform flow past a doublet resulting in the stream-line pattern produced flow around a cylinder. When studying the pressure coefficient, we realized that the drag on the cylinder was exactly zero (_D'Alembert paradox_).\n",
    "\n",
    "A perfectly circular cylinder can experience lift if it rotates, look for __Magnus__ effect.\n"
   ]
  },
  {
   "cell_type": "markdown",
   "metadata": {},
   "source": [
    "The equations for the flow of a doublet. In Cartesian coordinates, a doublet located at the origin has a stream function and velocity components given by\n",
    "\n",
    "$$\\psi\\left(x,y\\right) = -\\frac{\\kappa}{2\\pi}\\frac{y}{x^2+y^2}$$\n",
    "\n",
    "\n",
    "$$u\\left(x,y\\right) = \\frac{\\partial\\psi}{\\partial y} = -\\frac{\\kappa}{2\\pi}\\frac{x^2-y^2}{\\left(x^2+y^2\\right)^2}$$\n",
    "\n",
    "$$v\\left(x,y\\right) = -\\frac{\\partial\\psi}{\\partial x} = -\\frac{\\kappa}{2\\pi}\\frac{2xy}{\\left(x^2+y^2\\right)^2}$$"
   ]
  },
  {
   "cell_type": "markdown",
   "metadata": {},
   "source": [
    "Lets try to compute it:\n",
    "We'll place a doublet of strength $\\kappa=1$ at the origin, and add a free stream $U_\\infty=1$. \n",
    "We can re-use the code we have written before by encupsulating the functions we've written in `/.py` files; this is always a good thing.\n",
    "The files are placed in a `base_flow/` folder. Notice also the `__init__.py` file, from pythion docs: \n",
    "\n",
    "\"The __init__.py files are required to make Python treat directories containing the file as packages (unless using a namespace package, a relatively advanced feature). This prevents directories with a common name, such as string, from unintentionally hiding valid modules that occur later on the module search path. In the simplest case, __init__.py can just be an empty file, but it can also execute initialization code for the package or set the __all__ variable, described later.\"\n",
    "    "
   ]
  },
  {
   "cell_type": "code",
   "execution_count": 1,
   "metadata": {},
   "outputs": [
    {
     "ename": "ModuleNotFoundError",
     "evalue": "No module named 'base_flows'",
     "output_type": "error",
     "traceback": [
      "\u001b[1;31m---------------------------------------------------------------------------\u001b[0m",
      "\u001b[1;31mModuleNotFoundError\u001b[0m                       Traceback (most recent call last)",
      "\u001b[1;32m~\\AppData\\Local\\Temp\\ipykernel_36480\\324838964.py\u001b[0m in \u001b[0;36m<module>\u001b[1;34m\u001b[0m\n\u001b[1;32m----> 1\u001b[1;33m \u001b[1;32mfrom\u001b[0m \u001b[0mbase_flows\u001b[0m \u001b[1;32mimport\u001b[0m \u001b[0muniform\u001b[0m\u001b[1;33m,\u001b[0m \u001b[0msource\u001b[0m\u001b[1;33m,\u001b[0m \u001b[0mdoublet\u001b[0m\u001b[1;33m,\u001b[0m \u001b[0mvortex\u001b[0m\u001b[1;33m\u001b[0m\u001b[1;33m\u001b[0m\u001b[0m\n\u001b[0m\u001b[0;32m      2\u001b[0m \u001b[1;32mimport\u001b[0m \u001b[0mnumpy\u001b[0m \u001b[1;32mas\u001b[0m \u001b[0mnp\u001b[0m\u001b[1;33m\u001b[0m\u001b[1;33m\u001b[0m\u001b[0m\n\u001b[0;32m      3\u001b[0m \u001b[1;32mfrom\u001b[0m \u001b[0mmatplotlib\u001b[0m \u001b[1;32mimport\u001b[0m \u001b[0mpyplot\u001b[0m \u001b[1;32mas\u001b[0m \u001b[0mplt\u001b[0m\u001b[1;33m\u001b[0m\u001b[1;33m\u001b[0m\u001b[0m\n",
      "\u001b[1;31mModuleNotFoundError\u001b[0m: No module named 'base_flows'"
     ]
    }
   ],
   "source": [
    "from base_flows import uniform, source, doublet, vortex\n",
    "import numpy as np\n",
    "from matplotlib import pyplot as plt"
   ]
  },
  {
   "cell_type": "code",
   "execution_count": null,
   "metadata": {},
   "outputs": [],
   "source": [
    "N = 50                                # Number of points in each direction\n",
    "x_start, x_end = -2.0, 2.0            # x-direction boundaries\n",
    "y_start, y_end = -1.0, 1.0            # y-direction boundaries\n",
    "x = np.linspace(x_start, x_end, N)    # computes a 1D-array for x\n",
    "y = np.linspace(y_start, y_end, N)    # computes a 1D-array for y\n",
    "X, Y = np.meshgrid(x, y)              # generates a mesh grid"
   ]
  },
  {
   "cell_type": "code",
   "execution_count": 2,
   "metadata": {},
   "outputs": [],
   "source": [
    "kappa = 1.0                           # strength of the doublet\n",
    "x_doublet, y_doublet = 0.0, 0.0       # location of the doublet\n",
    "u_inf = 1.0                           # freestream speed"
   ]
  },
  {
   "cell_type": "code",
   "execution_count": 3,
   "metadata": {},
   "outputs": [
    {
     "ename": "NameError",
     "evalue": "name 'doublet' is not defined",
     "output_type": "error",
     "traceback": [
      "\u001b[1;31m---------------------------------------------------------------------------\u001b[0m",
      "\u001b[1;31mNameError\u001b[0m                                 Traceback (most recent call last)",
      "\u001b[1;32m~\\AppData\\Local\\Temp\\ipykernel_36480\\1569216482.py\u001b[0m in \u001b[0;36m<module>\u001b[1;34m\u001b[0m\n\u001b[0;32m      1\u001b[0m \u001b[1;31m# compute the velocity field on the mesh grid\u001b[0m\u001b[1;33m\u001b[0m\u001b[1;33m\u001b[0m\u001b[0m\n\u001b[1;32m----> 2\u001b[1;33m \u001b[0mu_doublet\u001b[0m\u001b[1;33m,\u001b[0m \u001b[0mv_doublet\u001b[0m \u001b[1;33m=\u001b[0m \u001b[0mdoublet\u001b[0m\u001b[1;33m.\u001b[0m\u001b[0mget_velocity\u001b[0m\u001b[1;33m(\u001b[0m\u001b[0mkappa\u001b[0m\u001b[1;33m,\u001b[0m \u001b[0mx_doublet\u001b[0m\u001b[1;33m,\u001b[0m \u001b[0my_doublet\u001b[0m\u001b[1;33m,\u001b[0m \u001b[0mX\u001b[0m\u001b[1;33m,\u001b[0m \u001b[0mY\u001b[0m\u001b[1;33m)\u001b[0m\u001b[1;33m\u001b[0m\u001b[1;33m\u001b[0m\u001b[0m\n\u001b[0m\u001b[0;32m      3\u001b[0m \u001b[1;33m\u001b[0m\u001b[0m\n\u001b[0;32m      4\u001b[0m \u001b[1;31m# compute the stream-function on the mesh grid\u001b[0m\u001b[1;33m\u001b[0m\u001b[1;33m\u001b[0m\u001b[0m\n\u001b[0;32m      5\u001b[0m \u001b[0mpsi_doublet\u001b[0m \u001b[1;33m=\u001b[0m \u001b[0mdoublet\u001b[0m\u001b[1;33m.\u001b[0m\u001b[0mget_stream_function\u001b[0m\u001b[1;33m(\u001b[0m\u001b[0mkappa\u001b[0m\u001b[1;33m,\u001b[0m \u001b[0mx_doublet\u001b[0m\u001b[1;33m,\u001b[0m \u001b[0my_doublet\u001b[0m\u001b[1;33m,\u001b[0m \u001b[0mX\u001b[0m\u001b[1;33m,\u001b[0m \u001b[0mY\u001b[0m\u001b[1;33m)\u001b[0m\u001b[1;33m\u001b[0m\u001b[1;33m\u001b[0m\u001b[0m\n",
      "\u001b[1;31mNameError\u001b[0m: name 'doublet' is not defined"
     ]
    }
   ],
   "source": [
    "# compute the velocity field on the mesh grid\n",
    "u_doublet, v_doublet = doublet.get_velocity(kappa, x_doublet, y_doublet, X, Y)\n",
    "\n",
    "# compute the stream-function on the mesh grid\n",
    "psi_doublet = doublet.get_stream_function(kappa, x_doublet, y_doublet, X, Y)\n",
    "\n",
    "# freestream velocity components\n",
    "u_freestream,v_freestream  = uniform.get_velocity(u_inf,X,Y)\n",
    "\n",
    "# stream-function of the freestream flow\n",
    "psi_freestream = uniform.get_stream_function(u_inf,X,Y)\n",
    "\n",
    "# superposition of the doublet on the freestream flow\n",
    "u = u_freestream + u_doublet\n",
    "v = v_freestream + v_doublet\n",
    "psi = psi_freestream + psi_doublet"
   ]
  },
  {
   "cell_type": "code",
   "execution_count": 4,
   "metadata": {},
   "outputs": [
    {
     "ename": "NameError",
     "evalue": "name 'y_end' is not defined",
     "output_type": "error",
     "traceback": [
      "\u001b[1;31m---------------------------------------------------------------------------\u001b[0m",
      "\u001b[1;31mNameError\u001b[0m                                 Traceback (most recent call last)",
      "\u001b[1;32m~\\AppData\\Local\\Temp\\ipykernel_36480\\3415635737.py\u001b[0m in \u001b[0;36m<module>\u001b[1;34m\u001b[0m\n\u001b[0;32m      1\u001b[0m \u001b[1;31m# plot the streamlines\u001b[0m\u001b[1;33m\u001b[0m\u001b[1;33m\u001b[0m\u001b[0m\n\u001b[0;32m      2\u001b[0m \u001b[0mwidth\u001b[0m \u001b[1;33m=\u001b[0m \u001b[1;36m10\u001b[0m\u001b[1;33m\u001b[0m\u001b[1;33m\u001b[0m\u001b[0m\n\u001b[1;32m----> 3\u001b[1;33m \u001b[0mheight\u001b[0m \u001b[1;33m=\u001b[0m \u001b[1;33m(\u001b[0m\u001b[0my_end\u001b[0m \u001b[1;33m-\u001b[0m \u001b[0my_start\u001b[0m\u001b[1;33m)\u001b[0m \u001b[1;33m/\u001b[0m \u001b[1;33m(\u001b[0m\u001b[0mx_end\u001b[0m \u001b[1;33m-\u001b[0m \u001b[0mx_start\u001b[0m\u001b[1;33m)\u001b[0m \u001b[1;33m*\u001b[0m \u001b[0mwidth\u001b[0m\u001b[1;33m\u001b[0m\u001b[1;33m\u001b[0m\u001b[0m\n\u001b[0m\u001b[0;32m      4\u001b[0m \u001b[0mplt\u001b[0m\u001b[1;33m.\u001b[0m\u001b[0mfigure\u001b[0m\u001b[1;33m(\u001b[0m\u001b[0mfigsize\u001b[0m\u001b[1;33m=\u001b[0m\u001b[1;33m(\u001b[0m\u001b[0mwidth\u001b[0m\u001b[1;33m,\u001b[0m \u001b[0mheight\u001b[0m\u001b[1;33m)\u001b[0m\u001b[1;33m)\u001b[0m\u001b[1;33m\u001b[0m\u001b[1;33m\u001b[0m\u001b[0m\n\u001b[0;32m      5\u001b[0m \u001b[0mplt\u001b[0m\u001b[1;33m.\u001b[0m\u001b[0mxlabel\u001b[0m\u001b[1;33m(\u001b[0m\u001b[1;34m'x'\u001b[0m\u001b[1;33m,\u001b[0m \u001b[0mfontsize\u001b[0m\u001b[1;33m=\u001b[0m\u001b[1;36m16\u001b[0m\u001b[1;33m)\u001b[0m\u001b[1;33m\u001b[0m\u001b[1;33m\u001b[0m\u001b[0m\n",
      "\u001b[1;31mNameError\u001b[0m: name 'y_end' is not defined"
     ]
    }
   ],
   "source": [
    "# plot the streamlines\n",
    "width = 10\n",
    "height = (y_end - y_start) / (x_end - x_start) * width\n",
    "plt.figure(figsize=(width, height))\n",
    "plt.xlabel('x', fontsize=16)\n",
    "plt.ylabel('y', fontsize=16)\n",
    "plt.xlim(x_start, x_end)\n",
    "plt.ylim(y_start, y_end)\n",
    "plt.streamplot(X, Y, u, v, density=2, linewidth=1, arrowsize=1, arrowstyle='->')\n",
    "plt.scatter(x_doublet, y_doublet, color='#CD2305', s=80, marker='o')\n",
    "\n",
    "# calculate the cylinder radius and add the cylinder to the figure\n",
    "R = np.sqrt(kappa / (2 * np.pi * u_inf))\n",
    "circle = plt.Circle((0, 0), radius=R, color='#CD2305', alpha=0.5)\n",
    "plt.gca().add_patch(circle)\n",
    "\n",
    "# calculate the stagnation points and add them to the figure\n",
    "x_stagn1, y_stagn1 = +np.sqrt(kappa / (2 * np.pi * u_inf)), 0.0\n",
    "x_stagn2, y_stagn2 = -np.sqrt(kappa / (2 * np.pi * u_inf)), 0.0\n",
    "plt.scatter([x_stagn1, x_stagn2], [y_stagn1, y_stagn2],\n",
    "               color='g', s=80, marker='o');"
   ]
  },
  {
   "cell_type": "markdown",
   "metadata": {},
   "source": [
    "We obtained cylinder flow. \n",
    "\n",
    "Now, let's add a vortex located at the origin with a positive strength $\\Gamma$. In Cartesian coordinates, the stream function and velocity components are given by:\n",
    "\n",
    "$$\\psi\\left(x,y\\right) = \\frac{\\Gamma}{4\\pi}\\ln\\left(x^2+y^2\\right)$$\n",
    "\n",
    "$$u\\left(x,y\\right) = \\frac{\\Gamma}{2\\pi}\\frac{y}{x^2+y^2} \\qquad v\\left(x,y\\right) = -\\frac{\\Gamma}{2\\pi}\\frac{x}{x^2+y^2}$$"
   ]
  },
  {
   "cell_type": "code",
   "execution_count": 5,
   "metadata": {},
   "outputs": [],
   "source": [
    "gamma = 4.0                      # strength of the vortex\n",
    "x_vortex, y_vortex = 0.0, 0.0    # location of the vortex"
   ]
  },
  {
   "cell_type": "code",
   "execution_count": 6,
   "metadata": {},
   "outputs": [
    {
     "ename": "NameError",
     "evalue": "name 'vortex' is not defined",
     "output_type": "error",
     "traceback": [
      "\u001b[1;31m---------------------------------------------------------------------------\u001b[0m",
      "\u001b[1;31mNameError\u001b[0m                                 Traceback (most recent call last)",
      "\u001b[1;32m~\\AppData\\Local\\Temp\\ipykernel_36480\\2318675771.py\u001b[0m in \u001b[0;36m<module>\u001b[1;34m\u001b[0m\n\u001b[0;32m      1\u001b[0m \u001b[1;31m# compute the velocity field on the mesh grid\u001b[0m\u001b[1;33m\u001b[0m\u001b[1;33m\u001b[0m\u001b[0m\n\u001b[1;32m----> 2\u001b[1;33m \u001b[0mu_vortex\u001b[0m\u001b[1;33m,\u001b[0m \u001b[0mv_vortex\u001b[0m \u001b[1;33m=\u001b[0m \u001b[0mvortex\u001b[0m\u001b[1;33m.\u001b[0m\u001b[0mget_velocity\u001b[0m\u001b[1;33m(\u001b[0m\u001b[0mgamma\u001b[0m\u001b[1;33m,\u001b[0m \u001b[0mx_vortex\u001b[0m\u001b[1;33m,\u001b[0m \u001b[0my_vortex\u001b[0m\u001b[1;33m,\u001b[0m \u001b[0mX\u001b[0m\u001b[1;33m,\u001b[0m \u001b[0mY\u001b[0m\u001b[1;33m)\u001b[0m\u001b[1;33m\u001b[0m\u001b[1;33m\u001b[0m\u001b[0m\n\u001b[0m\u001b[0;32m      3\u001b[0m \u001b[1;33m\u001b[0m\u001b[0m\n\u001b[0;32m      4\u001b[0m \u001b[1;31m# compute the stream-function on the mesh grid\u001b[0m\u001b[1;33m\u001b[0m\u001b[1;33m\u001b[0m\u001b[0m\n\u001b[0;32m      5\u001b[0m \u001b[0mpsi_vortex\u001b[0m \u001b[1;33m=\u001b[0m \u001b[0mvortex\u001b[0m\u001b[1;33m.\u001b[0m\u001b[0mget_stream_function\u001b[0m\u001b[1;33m(\u001b[0m\u001b[0mgamma\u001b[0m\u001b[1;33m,\u001b[0m \u001b[0mx_vortex\u001b[0m\u001b[1;33m,\u001b[0m \u001b[0my_vortex\u001b[0m\u001b[1;33m,\u001b[0m \u001b[0mX\u001b[0m\u001b[1;33m,\u001b[0m \u001b[0mY\u001b[0m\u001b[1;33m)\u001b[0m\u001b[1;33m\u001b[0m\u001b[1;33m\u001b[0m\u001b[0m\n",
      "\u001b[1;31mNameError\u001b[0m: name 'vortex' is not defined"
     ]
    }
   ],
   "source": [
    "# compute the velocity field on the mesh grid\n",
    "u_vortex, v_vortex = vortex.get_velocity(gamma, x_vortex, y_vortex, X, Y)\n",
    "\n",
    "# compute the stream-function on the mesh grid\n",
    "psi_vortex = vortex.get_stream_function(gamma, x_vortex, y_vortex, X, Y)"
   ]
  },
  {
   "cell_type": "code",
   "execution_count": 7,
   "metadata": {},
   "outputs": [
    {
     "ename": "NameError",
     "evalue": "name 'u_freestream' is not defined",
     "output_type": "error",
     "traceback": [
      "\u001b[1;31m---------------------------------------------------------------------------\u001b[0m",
      "\u001b[1;31mNameError\u001b[0m                                 Traceback (most recent call last)",
      "\u001b[1;32m~\\AppData\\Local\\Temp\\ipykernel_36480\\2180871726.py\u001b[0m in \u001b[0;36m<module>\u001b[1;34m\u001b[0m\n\u001b[0;32m      1\u001b[0m \u001b[1;31m# superposition of the doublet and the vortex on the freestream flow\u001b[0m\u001b[1;33m\u001b[0m\u001b[1;33m\u001b[0m\u001b[0m\n\u001b[1;32m----> 2\u001b[1;33m \u001b[0mu\u001b[0m \u001b[1;33m=\u001b[0m \u001b[0mu_freestream\u001b[0m \u001b[1;33m+\u001b[0m \u001b[0mu_doublet\u001b[0m \u001b[1;33m+\u001b[0m \u001b[0mu_vortex\u001b[0m\u001b[1;33m\u001b[0m\u001b[1;33m\u001b[0m\u001b[0m\n\u001b[0m\u001b[0;32m      3\u001b[0m \u001b[0mv\u001b[0m \u001b[1;33m=\u001b[0m \u001b[0mv_freestream\u001b[0m \u001b[1;33m+\u001b[0m \u001b[0mv_doublet\u001b[0m \u001b[1;33m+\u001b[0m \u001b[0mv_vortex\u001b[0m\u001b[1;33m\u001b[0m\u001b[1;33m\u001b[0m\u001b[0m\n\u001b[0;32m      4\u001b[0m \u001b[0mpsi\u001b[0m \u001b[1;33m=\u001b[0m \u001b[0mpsi_freestream\u001b[0m \u001b[1;33m+\u001b[0m \u001b[0mpsi_doublet\u001b[0m \u001b[1;33m+\u001b[0m \u001b[0mpsi_vortex\u001b[0m\u001b[1;33m\u001b[0m\u001b[1;33m\u001b[0m\u001b[0m\n",
      "\u001b[1;31mNameError\u001b[0m: name 'u_freestream' is not defined"
     ]
    }
   ],
   "source": [
    "# superposition of the doublet and the vortex on the freestream flow\n",
    "u = u_freestream + u_doublet + u_vortex\n",
    "v = v_freestream + v_doublet + v_vortex\n",
    "psi = psi_freestream + psi_doublet + psi_vortex"
   ]
  },
  {
   "cell_type": "code",
   "execution_count": 8,
   "metadata": {},
   "outputs": [
    {
     "ename": "NameError",
     "evalue": "name 'np' is not defined",
     "output_type": "error",
     "traceback": [
      "\u001b[1;31m---------------------------------------------------------------------------\u001b[0m",
      "\u001b[1;31mNameError\u001b[0m                                 Traceback (most recent call last)",
      "\u001b[1;32m~\\AppData\\Local\\Temp\\ipykernel_36480\\3921370937.py\u001b[0m in \u001b[0;36m<module>\u001b[1;34m\u001b[0m\n\u001b[0;32m      1\u001b[0m \u001b[1;31m# calculate the cylinder radius\u001b[0m\u001b[1;33m\u001b[0m\u001b[1;33m\u001b[0m\u001b[0m\n\u001b[1;32m----> 2\u001b[1;33m \u001b[0mR\u001b[0m \u001b[1;33m=\u001b[0m \u001b[0mnp\u001b[0m\u001b[1;33m.\u001b[0m\u001b[0msqrt\u001b[0m\u001b[1;33m(\u001b[0m\u001b[0mkappa\u001b[0m \u001b[1;33m/\u001b[0m \u001b[1;33m(\u001b[0m\u001b[1;36m2\u001b[0m \u001b[1;33m*\u001b[0m \u001b[0mnp\u001b[0m\u001b[1;33m.\u001b[0m\u001b[0mpi\u001b[0m \u001b[1;33m*\u001b[0m \u001b[0mu_inf\u001b[0m\u001b[1;33m)\u001b[0m\u001b[1;33m)\u001b[0m\u001b[1;33m\u001b[0m\u001b[1;33m\u001b[0m\u001b[0m\n\u001b[0m\u001b[0;32m      3\u001b[0m \u001b[1;33m\u001b[0m\u001b[0m\n\u001b[0;32m      4\u001b[0m \u001b[1;31m# calculate the stagnation points\u001b[0m\u001b[1;33m\u001b[0m\u001b[1;33m\u001b[0m\u001b[0m\n\u001b[0;32m      5\u001b[0m x_stagn1, y_stagn1 = (+np.sqrt(R**2 - (gamma / (4 * np.pi * u_inf))**2),\n",
      "\u001b[1;31mNameError\u001b[0m: name 'np' is not defined"
     ]
    }
   ],
   "source": [
    "# calculate the cylinder radius\n",
    "R = np.sqrt(kappa / (2 * np.pi * u_inf))\n",
    "\n",
    "# calculate the stagnation points\n",
    "x_stagn1, y_stagn1 = (+np.sqrt(R**2 - (gamma / (4 * np.pi * u_inf))**2),\n",
    "                      -gamma / (4 * np.pi * u_inf))\n",
    "x_stagn2, y_stagn2 = (-np.sqrt(R**2 - (gamma / (4 * np.pi * u_inf))**2),\n",
    "                      -gamma / (4 * np.pi * u_inf))\n",
    "\n",
    "# plot the streamlines\n",
    "width = 10\n",
    "height = (y_end - y_start) / (x_end - x_start) * width\n",
    "plt.figure(figsize=(width, height))\n",
    "plt.xlabel('x', fontsize=16)\n",
    "plt.ylabel('y', fontsize=16)\n",
    "plt.xlim(x_start, x_end)\n",
    "plt.ylim(y_start, y_end)\n",
    "plt.streamplot(X, Y, u, v,\n",
    "                  density=2, linewidth=1, arrowsize=1.5, arrowstyle='->')\n",
    "circle = plt.Circle((0.0, 0.0), radius=R, color='#CD2305', alpha=0.5)\n",
    "plt.gca().add_patch(circle)\n",
    "plt.scatter(x_vortex, y_vortex, color='#CD2305', s=80, marker='o')\n",
    "plt.scatter([x_stagn1, x_stagn2], [y_stagn1, y_stagn2],\n",
    "               color='g', s=80, marker='o');"
   ]
  },
  {
   "cell_type": "markdown",
   "metadata": {},
   "source": [
    "What hapens if $\\ \\frac{\\Gamma}{4\\pi U_\\infty R} >1$?\n",
    "\n",
    "Go back and experiment with a value of $\\Gamma$ that causes this.\n",
    "is the radius of the cylinder stayed the same?"
   ]
  },
  {
   "cell_type": "markdown",
   "metadata": {},
   "source": [
    "## Pressure coefficient\n",
    "\n",
    "From the doublet notebook, we know that the pressure coefficient is defined by\n",
    "\n",
    "$$C_p = 1-\\frac{U^2}{U_\\infty^2}$$\n",
    "\n",
    "where $U^2 = u^2+v^2 = u_r^2+u_\\theta^2$.\n",
    "(On the cylinder $u_{r}=0$)\n",
    "\n",
    "\n",
    "$$u_r\\left(r,\\theta\\right) = U_\\infty \\cos\\theta \\left(1-\\frac{R^2}{r^2}\\right)$$\n",
    "\n",
    "$$u_\\theta\\left(r,\\theta\\right) = -U_\\infty \\sin\\theta \\left(1+\\frac{R^2}{r^2}\\right) - \\frac{\\Gamma}{2\\pi r}$$\n",
    "\n",
    "where $R$ is the cylinder radius.\n",
    "\n",
    "We see that the radial component vanishes on the surface of the cylinder whereas the tangential velocity is given by\n",
    "\n",
    "$$u_\\theta\\left(R,\\theta\\right) = -2U_\\infty \\sin\\theta - \\frac{\\Gamma}{2\\pi R} .$$\n",
    "\n",
    "Note when there is no vortex, the tangential velocity on the cylinder becomes\n",
    "\n",
    "$$u_\\theta\\left(R,\\theta\\right) = -2U_\\infty \\sin\\theta .$$"
   ]
  },
  {
   "cell_type": "code",
   "execution_count": 9,
   "metadata": {},
   "outputs": [
    {
     "ename": "NameError",
     "evalue": "name 'np' is not defined",
     "output_type": "error",
     "traceback": [
      "\u001b[1;31m---------------------------------------------------------------------------\u001b[0m",
      "\u001b[1;31mNameError\u001b[0m                                 Traceback (most recent call last)",
      "\u001b[1;32m~\\AppData\\Local\\Temp\\ipykernel_36480\\3264566143.py\u001b[0m in \u001b[0;36m<module>\u001b[1;34m\u001b[0m\n\u001b[0;32m      1\u001b[0m \u001b[1;31m# calculate the surface tangential velocity on the cylinder\u001b[0m\u001b[1;33m\u001b[0m\u001b[1;33m\u001b[0m\u001b[0m\n\u001b[1;32m----> 2\u001b[1;33m \u001b[0mtheta\u001b[0m \u001b[1;33m=\u001b[0m \u001b[0mnp\u001b[0m\u001b[1;33m.\u001b[0m\u001b[0mlinspace\u001b[0m\u001b[1;33m(\u001b[0m\u001b[1;36m0.0\u001b[0m\u001b[1;33m,\u001b[0m \u001b[1;36m2\u001b[0m \u001b[1;33m*\u001b[0m \u001b[0mnp\u001b[0m\u001b[1;33m.\u001b[0m\u001b[0mpi\u001b[0m\u001b[1;33m,\u001b[0m \u001b[1;36m100\u001b[0m\u001b[1;33m)\u001b[0m\u001b[1;33m\u001b[0m\u001b[1;33m\u001b[0m\u001b[0m\n\u001b[0m\u001b[0;32m      3\u001b[0m \u001b[0mu_theta\u001b[0m \u001b[1;33m=\u001b[0m \u001b[1;33m-\u001b[0m\u001b[1;36m2\u001b[0m \u001b[1;33m*\u001b[0m \u001b[0mu_inf\u001b[0m \u001b[1;33m*\u001b[0m \u001b[0mnp\u001b[0m\u001b[1;33m.\u001b[0m\u001b[0msin\u001b[0m\u001b[1;33m(\u001b[0m\u001b[0mtheta\u001b[0m\u001b[1;33m)\u001b[0m \u001b[1;33m-\u001b[0m \u001b[0mgamma\u001b[0m \u001b[1;33m/\u001b[0m \u001b[1;33m(\u001b[0m\u001b[1;36m2\u001b[0m \u001b[1;33m*\u001b[0m \u001b[0mnp\u001b[0m\u001b[1;33m.\u001b[0m\u001b[0mpi\u001b[0m \u001b[1;33m*\u001b[0m \u001b[0mR\u001b[0m\u001b[1;33m)\u001b[0m\u001b[1;33m\u001b[0m\u001b[1;33m\u001b[0m\u001b[0m\n\u001b[0;32m      4\u001b[0m \u001b[1;33m\u001b[0m\u001b[0m\n\u001b[0;32m      5\u001b[0m \u001b[1;31m# compute the surface pressure coefficient\u001b[0m\u001b[1;33m\u001b[0m\u001b[1;33m\u001b[0m\u001b[0m\n",
      "\u001b[1;31mNameError\u001b[0m: name 'np' is not defined"
     ]
    }
   ],
   "source": [
    "# calculate the surface tangential velocity on the cylinder\n",
    "theta = np.linspace(0.0, 2 * np.pi, 100)\n",
    "u_theta = -2 * u_inf * np.sin(theta) - gamma / (2 * np.pi * R)\n",
    "\n",
    "# compute the surface pressure coefficient\n",
    "cp = 1.0 - (u_theta / u_inf)**2\n",
    "\n",
    "# if there was no vortex\n",
    "u_theta_no_vortex = -2 * u_inf * np.sin(theta)\n",
    "cp_no_vortex = 1.0 - (u_theta_no_vortex / u_inf)**2\n",
    "\n",
    "# plot the surface pressure coefficient\n",
    "size = 6\n",
    "plt.figure(figsize=(size, size))\n",
    "plt.grid(True)\n",
    "plt.xlabel(r'$\\theta$', fontsize=18)\n",
    "plt.ylabel('$C_p$', fontsize=18)\n",
    "plt.xlim(theta.min(), theta.max())\n",
    "plt.plot(theta, cp,\n",
    "            label='with vortex', color='#CD2305', linewidth=2, linestyle='-')\n",
    "plt.plot(theta, cp_no_vortex,\n",
    "            label='without vortex', color='g', linewidth=2, linestyle='-')\n",
    "plt.legend(loc='best', prop={'size':16});"
   ]
  },
  {
   "cell_type": "markdown",
   "metadata": {},
   "source": [
    "## Lift and Drag\n",
    "The lift is the component of force perpendicular to $U_\\infty$, while the drag is the component parallel to $U_\\infty$. How could we get them with the information we have above? \n",
    "\n",
    "Well, the force on the cylinder is a product of the pressure acting on its surface (there is no viscosity here: it's ideal flow). If you draw a free body diagram, you should see that:\n",
    "\n",
    "$$D = -\\int_0^{2\\pi} p \\ \\cos\\theta \\ R \\ d\\theta$$\n",
    "\n",
    "$$L = -\\int_0^{2\\pi} p \\ \\sin\\theta \\ R \\ d\\theta$$\n",
    "\n",
    "chalenge:\n",
    "Using Bernoulli's equation, replace $p$ in the equations above to obtain the lift and drag.\n",
    "\n",
    "What does this mean?"
   ]
  },
  {
   "cell_type": "code",
   "execution_count": null,
   "metadata": {},
   "outputs": [],
   "source": [
    "אפקט מגנוס מתרחש כאשר גוף מסתובב נמצא בתוך זרימה חופשית. הסיבוב גורם לשינוי בפריסת המהירויות סביב הגוף – בצד אחד הזרימה מואצת ואילו בצד השני היא מואטת, וכתוצאה מכך נוצר הפרש לחצים. הפרש לחצים זה מוביל להיווצרות כוח עילוי הפועל בניצב לכיוון הזרימה.\n",
    "\n",
    "כאשר מגדילים את ערך הסירקולציה, אפקט מגנוס מתחזק ונוצר כוח עילוי גדול יותר. מנגד, העלאת מהירות הזרימה החופשית מקטינה את ההשפעה היחסית של הסירקולציה, ולכן העיוות בשדה הזרימה פוחת. בתוך הגוף עצמו, סירקולציה גבוהה תגרום להיווצרות ערבולים פנימיים חזקים יותר, מה שמוביל גם לסיבוב מהיר וחזק יותר של הגוף."
   ]
  }
 ],
 "metadata": {
  "kernelspec": {
   "display_name": "Python 3 (ipykernel)",
   "language": "python",
   "name": "python3"
  },
  "language_info": {
   "codemirror_mode": {
    "name": "ipython",
    "version": 3
   },
   "file_extension": ".py",
   "mimetype": "text/x-python",
   "name": "python",
   "nbconvert_exporter": "python",
   "pygments_lexer": "ipython3",
   "version": "3.9.13"
  }
 },
 "nbformat": 4,
 "nbformat_minor": 2
}
